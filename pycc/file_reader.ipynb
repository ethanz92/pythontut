{
 "cells": [
  {
   "cell_type": "code",
   "execution_count": 1,
   "metadata": {},
   "outputs": [
    {
     "name": "stdout",
     "output_type": "stream",
     "text": [
      "3.1415926535\n",
      "  8979323846\n",
      "  2643383279\n"
     ]
    }
   ],
   "source": [
    "with open('pi_digits.txt') as file_object:\n",
    "    contents = file_object.read()\n",
    "print(contents.rstrip())"
   ]
  },
  {
   "cell_type": "code",
   "execution_count": 4,
   "metadata": {},
   "outputs": [
    {
     "name": "stdout",
     "output_type": "stream",
     "text": [
      "3.1415926535\n",
      "  8979323846\n",
      "  2643383279\n"
     ]
    }
   ],
   "source": [
    "with open('pi_digits.txt') as file_object:\n",
    "    lines = file_object.readlines()\n",
    "\n",
    "for line in lines:\n",
    "    print(line.rstrip())"
   ]
  },
  {
   "cell_type": "code",
   "execution_count": 5,
   "metadata": {},
   "outputs": [
    {
     "name": "stdout",
     "output_type": "stream",
     "text": [
      "3.141592653589793238462643383279\n",
      "32\n"
     ]
    }
   ],
   "source": [
    "with open('pi_digits.txt') as file_object:\n",
    "    lines = file_object.readlines()\n",
    "\n",
    "pi_string = ''\n",
    "for line in lines:\n",
    "    pi_string += line.strip()\n",
    "\n",
    "print(pi_string)\n",
    "print(len(pi_string))"
   ]
  },
  {
   "cell_type": "code",
   "execution_count": 6,
   "metadata": {},
   "outputs": [
    {
     "name": "stdout",
     "output_type": "stream",
     "text": [
      "3.14159265358979323846264338327950288419716939937510...\n",
      "1000002\n"
     ]
    }
   ],
   "source": [
    "with open('pi_million_digits.txt') as file_object:\n",
    "    lines = file_object.readlines()\n",
    "\n",
    "pi_string = ''\n",
    "for line in lines:\n",
    "    pi_string += line.strip()\n",
    "\n",
    "print(f'{pi_string[:52]}...')\n",
    "print(len(pi_string))"
   ]
  },
  {
   "cell_type": "code",
   "execution_count": 7,
   "metadata": {},
   "outputs": [
    {
     "name": "stdout",
     "output_type": "stream",
     "text": [
      "your bday is in first million digits of pi!\n"
     ]
    }
   ],
   "source": [
    "with open('pi_million_digits.txt') as file_object:\n",
    "    lines = file_object.readlines()\n",
    "\n",
    "pi_string = ''\n",
    "for line in lines:\n",
    "    pi_string += line.strip()\n",
    "\n",
    "birthday = input('type your bday in ddmmyy format: ')\n",
    "if birthday in pi_string:\n",
    "    print('your bday is in first million digits of pi!')\n",
    "else:\n",
    "    print('ah oh')"
   ]
  },
  {
   "cell_type": "code",
   "execution_count": 10,
   "metadata": {},
   "outputs": [
    {
     "name": "stdout",
     "output_type": "stream",
     "text": [
      "Python test 1\n",
      "2 test C++ s\n",
      "3 test C++1\n",
      "test 4 PYthON\n"
     ]
    }
   ],
   "source": [
    "with open('test.txt') as file_object:\n",
    "    lines = file_object.readlines()\n",
    "\n",
    "for line in lines:\n",
    "    print(line.replace('python','C++').rstrip())"
   ]
  },
  {
   "cell_type": "code",
   "execution_count": 1,
   "metadata": {},
   "outputs": [],
   "source": [
    "filename = 'programming.txt'\n",
    "\n",
    "with open(filename, 'w') as file_object:\n",
    "    file_object.write('I love programming.')"
   ]
  },
  {
   "cell_type": "code",
   "execution_count": 3,
   "metadata": {},
   "outputs": [],
   "source": [
    "#exercise 10-3\n",
    "name = input('please enter your name: ')\n",
    "\n",
    "filename = 'guest.txt'\n",
    "\n",
    "with open(filename, 'w') as file_object:\n",
    "    file_object.write(f'{name}')"
   ]
  },
  {
   "cell_type": "code",
   "execution_count": null,
   "metadata": {},
   "outputs": [],
   "source": [
    "#exercise 10-4\n",
    "check_in = True\n",
    "prompt = 'Please enter your name. Enter quit to close the program.'\n",
    "filename = 'guest_book.txt'\n",
    "\n",
    "while check_in:\n",
    "    name = input(prompt)\n",
    "    if name == 'quit':\n",
    "        check_in = False;\n",
    "    else:\n",
    "        print(f'Welcome, {name.title()}!')\n",
    "        with open(filename, 'a') as file_object:\n",
    "            file_object.write(f'{name.title()}\\n')"
   ]
  },
  {
   "cell_type": "code",
   "execution_count": 10,
   "metadata": {},
   "outputs": [
    {
     "name": "stdout",
     "output_type": "stream",
     "text": [
      "input two numbers and I'll add them up for you\n",
      "enter q to quit.\n",
      "Please enter numbers only.\n",
      "8 plus 10000 is 10008.\n"
     ]
    }
   ],
   "source": [
    "#exercise 10-6 10-7\n",
    "print(\"input two numbers and I'll add them up for you\")\n",
    "print(\"enter q to quit.\")\n",
    "active = True\n",
    "\n",
    "while active == True:\n",
    "    number_1 = input(\"give me the first number: \")\n",
    "    if number_1 == 'q':\n",
    "        break\n",
    "    number_2 = input(\"give me the second number: \")\n",
    "    if number_2 == 'q':\n",
    "        break\n",
    "    try:\n",
    "        sum = int(number_1) + int(number_2)\n",
    "    except ValueError:\n",
    "        print('Please enter numbers only.')\n",
    "    else:\n",
    "        print(f\"{number_1} plus {number_2} is {sum}.\")\n"
   ]
  },
  {
   "cell_type": "code",
   "execution_count": 12,
   "metadata": {},
   "outputs": [
    {
     "name": "stdout",
     "output_type": "stream",
     "text": [
      "Timmy Betty Kitty\n",
      "Sorry, the file dogs.txt does not exist.\n"
     ]
    }
   ],
   "source": [
    "#exercise 10-8\n",
    "filename_1 = 'cats.txt'\n",
    "filename_2 = 'dogs.txt'\n",
    "files = [filename_1, filename_2]\n",
    "\n",
    "for file in files:\n",
    "    try:\n",
    "        with open(file) as f:\n",
    "            contents = f.read()\n",
    "    except FileNotFoundError:\n",
    "        print(f'Sorry, the file {file} does not exist.')\n",
    "    else:\n",
    "        print(contents)"
   ]
  },
  {
   "cell_type": "code",
   "execution_count": 14,
   "metadata": {},
   "outputs": [
    {
     "name": "stdout",
     "output_type": "stream",
     "text": [
      "Timmy Betty Kitty\n"
     ]
    }
   ],
   "source": [
    "#exercise 10-9\n",
    "filename_1 = 'cats.txt'\n",
    "filename_2 = 'dogs.txt'\n",
    "files = [filename_1, filename_2]\n",
    "\n",
    "for file in files:\n",
    "    try:\n",
    "        with open(file) as f:\n",
    "            contents = f.read()\n",
    "    except FileNotFoundError:\n",
    "        pass\n",
    "    else:\n",
    "        print(contents)"
   ]
  },
  {
   "cell_type": "code",
   "execution_count": 18,
   "metadata": {},
   "outputs": [
    {
     "name": "stdout",
     "output_type": "stream",
     "text": [
      "The letter combo \"the\" appeared in HEROES OF AMERICAN HISTORY.txt 5503 times.\n",
      "The word \"the\" appeared 3304 times in HEROES OF AMERICAN HISTORY.txt.\n",
      "\n",
      "The letter combo \"the\" appeared in Poison Planet.txt 571 times.\n",
      "The word \"the\" appeared 379 times in Poison Planet.txt.\n",
      "\n",
      "The letter combo \"the\" appeared in THE CLEVEDON CASE.txt 3315 times.\n",
      "The word \"the\" appeared 2109 times in THE CLEVEDON CASE.txt.\n",
      "\n",
      "Sorry, the file 1984.txt does not exist.\n"
     ]
    }
   ],
   "source": [
    "def the_count(filename):\n",
    "    \"\"\"Count how many 'the' appeared in a text file.\"\"\"\n",
    "    try:\n",
    "        with open(filename) as f:\n",
    "            contents = f.read()\n",
    "            the_count = contents.count('the')\n",
    "            the_count_precise = contents.count('the ')\n",
    "    except FileNotFoundError:\n",
    "        print(f'Sorry, the file {filename} does not exist.')\n",
    "    else:\n",
    "        print(f'The letter combo \"the\" appeared in {filename} {the_count} times.')\n",
    "        print(f'The word \"the\" appeared {the_count_precise} times in {filename}.\\n')\n",
    "\n",
    "files = ['HEROES OF AMERICAN HISTORY.txt', 'Poison Planet.txt', 'THE CLEVEDON CASE.txt', '1984.txt']\n",
    "for filename in files:\n",
    "    the_count(filename)"
   ]
  }
 ],
 "metadata": {
  "kernelspec": {
   "display_name": "Python 3.10.0 64-bit ('3.10.0')",
   "language": "python",
   "name": "python3"
  },
  "language_info": {
   "codemirror_mode": {
    "name": "ipython",
    "version": 3
   },
   "file_extension": ".py",
   "mimetype": "text/x-python",
   "name": "python",
   "nbconvert_exporter": "python",
   "pygments_lexer": "ipython3",
   "version": "3.10.0"
  },
  "orig_nbformat": 4,
  "vscode": {
   "interpreter": {
    "hash": "f89f966a8c7e6b466bbcf49f2d51a9c904bd17c29bb3dae2c0a6b521477c9d0a"
   }
  }
 },
 "nbformat": 4,
 "nbformat_minor": 2
}
